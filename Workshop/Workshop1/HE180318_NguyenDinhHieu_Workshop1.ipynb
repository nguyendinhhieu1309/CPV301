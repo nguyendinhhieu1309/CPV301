{
 "cells": [
  {
   "cell_type": "code",
   "execution_count": 34,
   "metadata": {},
   "outputs": [],
   "source": [
    "import cv2\n",
    "import numpy as np \n",
    "import math\n",
    "from PIL import Image, ImageDraw"
   ]
  },
  {
   "cell_type": "code",
   "execution_count": 35,
   "metadata": {},
   "outputs": [],
   "source": [
    "p1=(-1,-1);p2=(-1,-1)"
   ]
  },
  {
   "cell_type": "code",
   "execution_count": 36,
   "metadata": {},
   "outputs": [],
   "source": [
    "def translate_rectangle(p1,p2,translation):\n",
    "    new_p1=(p1[0] + translation[0], p1[1] + translation[1])\n",
    "    new_p2=(p2[0] + translation[0], p2[1] + translation[1])\n",
    "    return new_p1,new_p2"
   ]
  },
  {
   "cell_type": "code",
   "execution_count": 37,
   "metadata": {},
   "outputs": [],
   "source": [
    "def create_white_background(width,height):\n",
    "    return np.ones((height,width,3),dtype=np.uint8)*255"
   ]
  },
  {
   "cell_type": "code",
   "execution_count": 38,
   "metadata": {},
   "outputs": [],
   "source": [
    "def rotate_rectangle(points,rotate_point,angle):\n",
    "    angle_rad=math.radians(angle)\n",
    "    translated_points = [(pt[0]- rotate_point[0], pt[1] - rotate_point[1]) for pt in points]\n",
    "    rotated_points=[]\n",
    "    for pt in translated_points:\n",
    "        x = pt[0] * math.cos(angle_rad) - pt[1] * math.sin(angle_rad)\n",
    "        y = pt[0] * math.sin(angle_rad) + pt[1] * math.cos(angle_rad)\n",
    "        rotated_points.append((x,y))\n",
    "    final_points = [(pt[0] + rotate_point[0] , pt[1] + rotate_point[1]) for pt in rotated_points ]\n",
    "    return final_points"
   ]
  },
  {
   "cell_type": "code",
   "execution_count": 39,
   "metadata": {},
   "outputs": [],
   "source": [
    "def scale_rectangle(p1,p2,scale_factors):\n",
    "    new_p2_x = int(p2[0] * scale_factors[0])\n",
    "    new_p2_y = int(p2[1] * scale_factors[1])\n",
    "    return (p1),(new_p2_x,new_p2_y)"
   ]
  },
  {
   "cell_type": "code",
   "execution_count": 40,
   "metadata": {},
   "outputs": [],
   "source": [
    "def draw_rectangle(image,p1,p2,color):\n",
    "    cv2.rectangle(image,p1,p2,color,2)"
   ]
  },
  {
   "cell_type": "code",
   "execution_count": 41,
   "metadata": {},
   "outputs": [],
   "source": [
    "def mouse_callback(event,x,y,flags,param):\n",
    "    global p1,p2\n",
    "    if event == cv2.EVENT_LBUTTONDOWN:\n",
    "        p1 = (x, y)\n",
    "    elif event == cv2.EVENT_LBUTTONUP:\n",
    "        p2 = (x, y)\n",
    "        cv2.rectangle(image,p1,p2, (0,0,255),2)"
   ]
  },
  {
   "cell_type": "code",
   "execution_count": 42,
   "metadata": {},
   "outputs": [],
   "source": [
    "image_width=800\n",
    "image_height=600\n",
    "image = create_white_background(image_width,image_height)\n",
    "cv2.namedWindow('Rectangle_window')\n",
    "cv2.setMouseCallback('Rectangle_window',mouse_callback)\n"
   ]
  },
  {
   "cell_type": "code",
   "execution_count": 43,
   "metadata": {},
   "outputs": [],
   "source": [
    "def draw_rectangle1(image,points):\n",
    "    cv2.polylines(image,np.int32([points]),True, (0,0,255), 2)"
   ]
  },
  {
   "cell_type": "code",
   "execution_count": 44,
   "metadata": {},
   "outputs": [],
   "source": [
    "while True:\n",
    "    cv2.imshow('Rectangle_window',image)\n",
    "    key=cv2.waitKey(1) & 0XFF\n",
    "    if key == ord('t'):\n",
    "        x=int(input('Enter x trans: '))\n",
    "        y=int(input('Enter y trans: '))\n",
    "        p1,p2 = translate_rectangle(p1,p2,(x,y))\n",
    "        image = create_white_background(image_width,image_height)\n",
    "        draw_rectangle(image,p1,p2,(0,0,255))\n",
    "    elif key == ord('r'):\n",
    "        angle = float(input('Enter rotation angle in degrees: '))\n",
    "        center_x = (p1[0] + p2[0]) // 2\n",
    "        center_y = (p1[1] + p2[1]) // 2\n",
    "        rectangle_points = [p1,(p1[0],p2[1]), p2, (p2[0], p1[1])]\n",
    "        image =create_white_background(image_width,image_height)\n",
    "        rotated_points = rotate_rectangle(rectangle_points,(center_x,center_y),angle)\n",
    "        draw_rectangle1(image,rotated_points)\n",
    "        cv2.destroyAllWindows()\n",
    "        image_cv=cv2.cvtColor(np.array(image), cv2.COLOR_RGB2BGR)\n",
    "        cv2.imshow('Rotated_rec', image_cv)\n",
    "        cv2.destroyAllWindows()\n",
    "    elif key == ord('s'):\n",
    "        scale_x = float(input('Enter x scale factor: '))\n",
    "        scale_y = float(input('Enter y scale factor: '))\n",
    "        p1,p2 = scale_rectangle(p1,p2,(scale_x, scale_y))\n",
    "        image=create_white_background(image_width,image_height)\n",
    "        draw_rectangle(image,p1,p2, (0,0,255))\n",
    "    elif key == ord('q'):\n",
    "        break\n",
    "cv2.destroyAllWindows()"
   ]
  }
 ],
 "metadata": {
  "kernelspec": {
   "display_name": "Python 3",
   "language": "python",
   "name": "python3"
  },
  "language_info": {
   "codemirror_mode": {
    "name": "ipython",
    "version": 3
   },
   "file_extension": ".py",
   "mimetype": "text/x-python",
   "name": "python",
   "nbconvert_exporter": "python",
   "pygments_lexer": "ipython3",
   "version": "3.11.5"
  }
 },
 "nbformat": 4,
 "nbformat_minor": 2
}
